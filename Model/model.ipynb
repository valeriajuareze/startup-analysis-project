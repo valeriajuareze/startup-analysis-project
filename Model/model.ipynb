{
 "cells": [
  {
   "cell_type": "code",
   "execution_count": 1,
   "metadata": {},
   "outputs": [],
   "source": [
    "### Importing dependencies to work with the data and create the model\n",
    "import pandas as pd\n",
    "import numpy as np\n",
    "from sklearn.model_selection import train_test_split\n",
    "from sklearn.ensemble import GradientBoostingClassifier\n",
    "from sklearn.preprocessing import StandardScaler\n",
    "from sklearn.metrics import confusion_matrix, accuracy_score, classification_report, log_loss\n",
    "import seaborn as sns\n",
    "import matplotlib.pyplot as plt\n",
    "import pandas as pd \n",
    "import psycopg2 \n",
    "import pandas.io.sql as sqlio \n",
    "from password import db_password\n",
    "\n"
   ]
  },
  {
   "cell_type": "code",
   "execution_count": 2,
   "metadata": {},
   "outputs": [],
   "source": [
    "### Create connection with database and load database\n",
    "connection = psycopg2.connect(user='postgres', password=db_password, \n",
    "host='127.0.0.1',\n",
    "port='5432', \n",
    "database='Startup-Analysis')\n",
    "sql = \"SELECT * FROM startup_alldata\"\n",
    "data = sqlio.read_sql_query(sql,connection)"
   ]
  },
  {
   "cell_type": "code",
   "execution_count": 3,
   "metadata": {},
   "outputs": [
    {
     "data": {
      "text/html": [
       "<div>\n",
       "<style scoped>\n",
       "    .dataframe tbody tr th:only-of-type {\n",
       "        vertical-align: middle;\n",
       "    }\n",
       "\n",
       "    .dataframe tbody tr th {\n",
       "        vertical-align: top;\n",
       "    }\n",
       "\n",
       "    .dataframe thead th {\n",
       "        text-align: right;\n",
       "    }\n",
       "</style>\n",
       "<table border=\"1\" class=\"dataframe\">\n",
       "  <thead>\n",
       "    <tr style=\"text-align: right;\">\n",
       "      <th></th>\n",
       "      <th>state_code</th>\n",
       "      <th>year_</th>\n",
       "      <th>vp_gdp</th>\n",
       "      <th>labels</th>\n",
       "      <th>founded_at</th>\n",
       "      <th>age_first_funding_year</th>\n",
       "      <th>age_last_funding_year</th>\n",
       "      <th>age_first_milestone_year</th>\n",
       "      <th>age_last_milestone_year</th>\n",
       "      <th>relationships</th>\n",
       "      <th>...</th>\n",
       "      <th>has_angel</th>\n",
       "      <th>has_rounda</th>\n",
       "      <th>has_roundb</th>\n",
       "      <th>has_roundc</th>\n",
       "      <th>has_roundd</th>\n",
       "      <th>avg_participants</th>\n",
       "      <th>is_top500</th>\n",
       "      <th>reached_milestone</th>\n",
       "      <th>founded_first_funding_days_difference</th>\n",
       "      <th>first_last_funding_days_difference</th>\n",
       "    </tr>\n",
       "  </thead>\n",
       "  <tbody>\n",
       "    <tr>\n",
       "      <th>0</th>\n",
       "      <td>CA</td>\n",
       "      <td>2007</td>\n",
       "      <td>1.9</td>\n",
       "      <td>1</td>\n",
       "      <td>2007</td>\n",
       "      <td>2.2493</td>\n",
       "      <td>3.0027</td>\n",
       "      <td>4.6685</td>\n",
       "      <td>6.7041</td>\n",
       "      <td>3</td>\n",
       "      <td>...</td>\n",
       "      <td>1</td>\n",
       "      <td>0</td>\n",
       "      <td>0</td>\n",
       "      <td>0</td>\n",
       "      <td>0</td>\n",
       "      <td>1.0000</td>\n",
       "      <td>0</td>\n",
       "      <td>1</td>\n",
       "      <td>821</td>\n",
       "      <td>275</td>\n",
       "    </tr>\n",
       "    <tr>\n",
       "      <th>1</th>\n",
       "      <td>CA</td>\n",
       "      <td>2000</td>\n",
       "      <td>7.7</td>\n",
       "      <td>1</td>\n",
       "      <td>2000</td>\n",
       "      <td>5.1260</td>\n",
       "      <td>9.9973</td>\n",
       "      <td>7.0055</td>\n",
       "      <td>7.0055</td>\n",
       "      <td>9</td>\n",
       "      <td>...</td>\n",
       "      <td>0</td>\n",
       "      <td>0</td>\n",
       "      <td>1</td>\n",
       "      <td>1</td>\n",
       "      <td>1</td>\n",
       "      <td>4.7500</td>\n",
       "      <td>1</td>\n",
       "      <td>1</td>\n",
       "      <td>1871</td>\n",
       "      <td>1778</td>\n",
       "    </tr>\n",
       "    <tr>\n",
       "      <th>2</th>\n",
       "      <td>CA</td>\n",
       "      <td>2009</td>\n",
       "      <td>3.2</td>\n",
       "      <td>1</td>\n",
       "      <td>2009</td>\n",
       "      <td>1.0329</td>\n",
       "      <td>1.0329</td>\n",
       "      <td>1.4575</td>\n",
       "      <td>2.2055</td>\n",
       "      <td>5</td>\n",
       "      <td>...</td>\n",
       "      <td>0</td>\n",
       "      <td>1</td>\n",
       "      <td>0</td>\n",
       "      <td>0</td>\n",
       "      <td>0</td>\n",
       "      <td>4.0000</td>\n",
       "      <td>1</td>\n",
       "      <td>1</td>\n",
       "      <td>377</td>\n",
       "      <td>0</td>\n",
       "    </tr>\n",
       "    <tr>\n",
       "      <th>3</th>\n",
       "      <td>CA</td>\n",
       "      <td>2002</td>\n",
       "      <td>1.8</td>\n",
       "      <td>1</td>\n",
       "      <td>2002</td>\n",
       "      <td>3.1315</td>\n",
       "      <td>5.3151</td>\n",
       "      <td>6.0027</td>\n",
       "      <td>6.0027</td>\n",
       "      <td>5</td>\n",
       "      <td>...</td>\n",
       "      <td>0</td>\n",
       "      <td>0</td>\n",
       "      <td>1</td>\n",
       "      <td>1</td>\n",
       "      <td>1</td>\n",
       "      <td>3.3333</td>\n",
       "      <td>1</td>\n",
       "      <td>1</td>\n",
       "      <td>1143</td>\n",
       "      <td>797</td>\n",
       "    </tr>\n",
       "    <tr>\n",
       "      <th>4</th>\n",
       "      <td>CA</td>\n",
       "      <td>2010</td>\n",
       "      <td>2.0</td>\n",
       "      <td>0</td>\n",
       "      <td>2010</td>\n",
       "      <td>0.0000</td>\n",
       "      <td>1.6685</td>\n",
       "      <td>0.0384</td>\n",
       "      <td>0.0384</td>\n",
       "      <td>2</td>\n",
       "      <td>...</td>\n",
       "      <td>1</td>\n",
       "      <td>0</td>\n",
       "      <td>0</td>\n",
       "      <td>0</td>\n",
       "      <td>0</td>\n",
       "      <td>1.0000</td>\n",
       "      <td>1</td>\n",
       "      <td>1</td>\n",
       "      <td>0</td>\n",
       "      <td>609</td>\n",
       "    </tr>\n",
       "  </tbody>\n",
       "</table>\n",
       "<p>5 rows × 39 columns</p>\n",
       "</div>"
      ],
      "text/plain": [
       "  state_code  year_  vp_gdp  labels  founded_at  age_first_funding_year  \\\n",
       "0         CA   2007     1.9       1        2007                  2.2493   \n",
       "1         CA   2000     7.7       1        2000                  5.1260   \n",
       "2         CA   2009     3.2       1        2009                  1.0329   \n",
       "3         CA   2002     1.8       1        2002                  3.1315   \n",
       "4         CA   2010     2.0       0        2010                  0.0000   \n",
       "\n",
       "   age_last_funding_year  age_first_milestone_year  age_last_milestone_year  \\\n",
       "0                 3.0027                    4.6685                   6.7041   \n",
       "1                 9.9973                    7.0055                   7.0055   \n",
       "2                 1.0329                    1.4575                   2.2055   \n",
       "3                 5.3151                    6.0027                   6.0027   \n",
       "4                 1.6685                    0.0384                   0.0384   \n",
       "\n",
       "   relationships  ...  has_angel  has_rounda  has_roundb  has_roundc  \\\n",
       "0              3  ...          1           0           0           0   \n",
       "1              9  ...          0           0           1           1   \n",
       "2              5  ...          0           1           0           0   \n",
       "3              5  ...          0           0           1           1   \n",
       "4              2  ...          1           0           0           0   \n",
       "\n",
       "   has_roundd  avg_participants  is_top500  reached_milestone  \\\n",
       "0           0            1.0000          0                  1   \n",
       "1           1            4.7500          1                  1   \n",
       "2           0            4.0000          1                  1   \n",
       "3           1            3.3333          1                  1   \n",
       "4           0            1.0000          1                  1   \n",
       "\n",
       "   founded_first_funding_days_difference  first_last_funding_days_difference  \n",
       "0                                    821                                 275  \n",
       "1                                   1871                                1778  \n",
       "2                                    377                                   0  \n",
       "3                                   1143                                 797  \n",
       "4                                      0                                 609  \n",
       "\n",
       "[5 rows x 39 columns]"
      ]
     },
     "execution_count": 3,
     "metadata": {},
     "output_type": "execute_result"
    }
   ],
   "source": [
    "### Check database head to see if the upload was done correct\n",
    "data.head()"
   ]
  },
  {
   "cell_type": "code",
   "execution_count": 37,
   "metadata": {},
   "outputs": [],
   "source": [
    "### 2 columns contain NA, this data is valuable so changing NA to value 999, the reason is the columns have values 0 by default, taking down the\n",
    "## the columns we miss almost all 0 labels and the model wouldn´t couldn´t be trained\n",
    "data[\"age_first_milestone_year\"] = data[\"age_first_milestone_year\"].fillna(value=999)\n",
    "data[\"age_last_milestone_year\"] = data[\"age_last_milestone_year\"].fillna(value=999)"
   ]
  },
  {
   "cell_type": "code",
   "execution_count": 38,
   "metadata": {},
   "outputs": [],
   "source": [
    "X = data.drop([\"labels\", \"state_code\", \"founded_at\", \"year_\"], axis= 1)\n",
    "y = data[\"labels\"]"
   ]
  },
  {
   "cell_type": "markdown",
   "metadata": {},
   "source": [
    "Using standard methodology to separate train and test data, after that we are going to scale with StandardScaler from sklearn.preprocessing so we don´t have outliers"
   ]
  },
  {
   "cell_type": "code",
   "execution_count": 39,
   "metadata": {},
   "outputs": [],
   "source": [
    "### Split the data into test and train \n",
    "X_train, X_test, y_train, y_test = train_test_split(X, y)"
   ]
  },
  {
   "cell_type": "code",
   "execution_count": 40,
   "metadata": {},
   "outputs": [],
   "source": [
    "### Going to scale the data to avoid outliers \n",
    "scaler = StandardScaler()\n",
    "X_scaler = scaler.fit(X_train)\n",
    "X_train_scaled = X_scaler.transform(X_train)\n",
    "X_test_scaled = X_scaler.transform(X_test)"
   ]
  },
  {
   "cell_type": "markdown",
   "metadata": {},
   "source": [
    "Applying Gradient Boosting Classifier, Boosting has the idea of learning from each successful model ran and minimize the error. In a summarized way to see it the Gradient Boosting Classifier incorporates a minimize cost function to cast the next model"
   ]
  },
  {
   "cell_type": "code",
   "execution_count": 45,
   "metadata": {},
   "outputs": [
    {
     "name": "stdout",
     "output_type": "stream",
     "text": [
      "Accuracy score (training): 0.90\n",
      "Accuracy score (validation): 0.80\n"
     ]
    }
   ],
   "source": [
    "\n",
    "\n",
    "classifier = GradientBoostingClassifier(n_estimators=200,\n",
    "   learning_rate=0.05,\n",
    "   max_features=5,\n",
    "   max_depth=3,\n",
    "   random_state=0)\n",
    "\n",
    "classifier.fit(X_train_scaled, y_train)\n",
    "print(\"Accuracy score (training): {0:.2f}\".format(\n",
    "classifier.score(X_train_scaled, y_train)))\n",
    "print(\"Accuracy score (validation): {0:.2f}\".format(\n",
    "classifier.score(X_test_scaled, y_test)))\n",
    "y_pred = classifier.predict(X_test_scaled)\n",
    "\n"
   ]
  },
  {
   "cell_type": "code",
   "execution_count": 47,
   "metadata": {},
   "outputs": [
    {
     "name": "stdout",
     "output_type": "stream",
     "text": [
      "              precision    recall  f1-score   support\n",
      "\n",
      "           0       0.63      0.79      0.70        66\n",
      "           1       0.90      0.81      0.85       161\n",
      "\n",
      "    accuracy                           0.80       227\n",
      "   macro avg       0.76      0.80      0.78       227\n",
      "weighted avg       0.82      0.80      0.81       227\n",
      "\n",
      "0.801762114537445\n"
     ]
    }
   ],
   "source": [
    "print(classification_report(y_pred, y_test))\n",
    "print(accuracy_score(y_pred, y_test))"
   ]
  },
  {
   "cell_type": "markdown",
   "metadata": {},
   "source": [
    "Creating this model we had a 80% acurracy, the model does what we need, with a 79% recall for 0 and 81% we have an almost certainty that we can detect the true successful or failed startups and with this we can forecast for new business\n",
    "\n",
    "And with the help of R we can detect the variables that statistically matters for our model"
   ]
  },
  {
   "cell_type": "markdown",
   "metadata": {},
   "source": []
  }
 ],
 "metadata": {
  "kernelspec": {
   "display_name": "Python 3.7.13 ('mlenv')",
   "language": "python",
   "name": "python3"
  },
  "language_info": {
   "codemirror_mode": {
    "name": "ipython",
    "version": 3
   },
   "file_extension": ".py",
   "mimetype": "text/x-python",
   "name": "python",
   "nbconvert_exporter": "python",
   "pygments_lexer": "ipython3",
   "version": "3.7.13"
  },
  "orig_nbformat": 4,
  "vscode": {
   "interpreter": {
    "hash": "dad9669986d2e53d258b14239b0338930eb2b69d3d5c20882941b4054d76ef36"
   }
  }
 },
 "nbformat": 4,
 "nbformat_minor": 2
}
