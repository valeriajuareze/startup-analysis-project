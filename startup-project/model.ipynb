{
 "cells": [
  {
   "cell_type": "code",
   "execution_count": 3,
   "metadata": {},
   "outputs": [],
   "source": [
    "### Importing dependencies to work with the data and create the model\n",
    "import pandas as pd\n",
    "import numpy as np\n",
    "from sklearn.model_selection import train_test_split\n",
    "from sklearn.ensemble import GradientBoostingClassifier\n",
    "from sklearn.preprocessing import StandardScaler\n",
    "from sklearn.metrics import  accuracy_score, classification_report\n",
    "from sklearn.metrics import log_loss\n",
    "from sklearn.metrics import confusion_matrix\n",
    "import matplotlib.pyplot as plt\n",
    "import pandas as pd \n",
    "import psycopg2 \n",
    "import pandas.io.sql as sqlio \n",
    "from sklearn.metrics import roc_curve, RocCurveDisplay, auc\n",
    "import pickle\n",
    "import boto3\n",
    "import io\n",
    "\n",
    "\n"
   ]
  },
  {
   "cell_type": "code",
   "execution_count": null,
   "metadata": {},
   "outputs": [],
   "source": []
  },
  {
   "cell_type": "code",
   "execution_count": 5,
   "metadata": {},
   "outputs": [],
   "source": [
    "### Create connection with database and load database\n",
    "connection = psycopg2.connect(user='postgres', password=\"Absdefg1\", \n",
    "host='127.0.0.1',\n",
    "port='5432', \n",
    "database='Startup-Analysis')\n",
    "sql = \"SELECT * FROM startup_alldata\"\n",
    "data = sqlio.read_sql_query(sql,connection)"
   ]
  },
  {
   "cell_type": "code",
   "execution_count": 6,
   "metadata": {},
   "outputs": [
    {
     "data": {
      "text/html": [
       "<div>\n",
       "<style scoped>\n",
       "    .dataframe tbody tr th:only-of-type {\n",
       "        vertical-align: middle;\n",
       "    }\n",
       "\n",
       "    .dataframe tbody tr th {\n",
       "        vertical-align: top;\n",
       "    }\n",
       "\n",
       "    .dataframe thead th {\n",
       "        text-align: right;\n",
       "    }\n",
       "</style>\n",
       "<table border=\"1\" class=\"dataframe\">\n",
       "  <thead>\n",
       "    <tr style=\"text-align: right;\">\n",
       "      <th></th>\n",
       "      <th>state_code</th>\n",
       "      <th>year_</th>\n",
       "      <th>vp_gdp</th>\n",
       "      <th>labels</th>\n",
       "      <th>founded_at</th>\n",
       "      <th>age_first_funding_year</th>\n",
       "      <th>age_last_funding_year</th>\n",
       "      <th>age_first_milestone_year</th>\n",
       "      <th>age_last_milestone_year</th>\n",
       "      <th>relationships</th>\n",
       "      <th>...</th>\n",
       "      <th>has_angel</th>\n",
       "      <th>has_rounda</th>\n",
       "      <th>has_roundb</th>\n",
       "      <th>has_roundc</th>\n",
       "      <th>has_roundd</th>\n",
       "      <th>avg_participants</th>\n",
       "      <th>is_top500</th>\n",
       "      <th>reached_milestone</th>\n",
       "      <th>founded_first_funding_days_difference</th>\n",
       "      <th>first_last_funding_days_difference</th>\n",
       "    </tr>\n",
       "  </thead>\n",
       "  <tbody>\n",
       "    <tr>\n",
       "      <th>0</th>\n",
       "      <td>CA</td>\n",
       "      <td>2007</td>\n",
       "      <td>1.9</td>\n",
       "      <td>1</td>\n",
       "      <td>2007</td>\n",
       "      <td>2.2493</td>\n",
       "      <td>3.0027</td>\n",
       "      <td>4.6685</td>\n",
       "      <td>6.7041</td>\n",
       "      <td>3</td>\n",
       "      <td>...</td>\n",
       "      <td>1</td>\n",
       "      <td>0</td>\n",
       "      <td>0</td>\n",
       "      <td>0</td>\n",
       "      <td>0</td>\n",
       "      <td>1.0000</td>\n",
       "      <td>0</td>\n",
       "      <td>1</td>\n",
       "      <td>821</td>\n",
       "      <td>275</td>\n",
       "    </tr>\n",
       "    <tr>\n",
       "      <th>1</th>\n",
       "      <td>CA</td>\n",
       "      <td>2000</td>\n",
       "      <td>7.7</td>\n",
       "      <td>1</td>\n",
       "      <td>2000</td>\n",
       "      <td>5.1260</td>\n",
       "      <td>9.9973</td>\n",
       "      <td>7.0055</td>\n",
       "      <td>7.0055</td>\n",
       "      <td>9</td>\n",
       "      <td>...</td>\n",
       "      <td>0</td>\n",
       "      <td>0</td>\n",
       "      <td>1</td>\n",
       "      <td>1</td>\n",
       "      <td>1</td>\n",
       "      <td>4.7500</td>\n",
       "      <td>1</td>\n",
       "      <td>1</td>\n",
       "      <td>1871</td>\n",
       "      <td>1778</td>\n",
       "    </tr>\n",
       "    <tr>\n",
       "      <th>2</th>\n",
       "      <td>CA</td>\n",
       "      <td>2009</td>\n",
       "      <td>3.2</td>\n",
       "      <td>1</td>\n",
       "      <td>2009</td>\n",
       "      <td>1.0329</td>\n",
       "      <td>1.0329</td>\n",
       "      <td>1.4575</td>\n",
       "      <td>2.2055</td>\n",
       "      <td>5</td>\n",
       "      <td>...</td>\n",
       "      <td>0</td>\n",
       "      <td>1</td>\n",
       "      <td>0</td>\n",
       "      <td>0</td>\n",
       "      <td>0</td>\n",
       "      <td>4.0000</td>\n",
       "      <td>1</td>\n",
       "      <td>1</td>\n",
       "      <td>377</td>\n",
       "      <td>0</td>\n",
       "    </tr>\n",
       "    <tr>\n",
       "      <th>3</th>\n",
       "      <td>CA</td>\n",
       "      <td>2002</td>\n",
       "      <td>1.8</td>\n",
       "      <td>1</td>\n",
       "      <td>2002</td>\n",
       "      <td>3.1315</td>\n",
       "      <td>5.3151</td>\n",
       "      <td>6.0027</td>\n",
       "      <td>6.0027</td>\n",
       "      <td>5</td>\n",
       "      <td>...</td>\n",
       "      <td>0</td>\n",
       "      <td>0</td>\n",
       "      <td>1</td>\n",
       "      <td>1</td>\n",
       "      <td>1</td>\n",
       "      <td>3.3333</td>\n",
       "      <td>1</td>\n",
       "      <td>1</td>\n",
       "      <td>1143</td>\n",
       "      <td>797</td>\n",
       "    </tr>\n",
       "    <tr>\n",
       "      <th>4</th>\n",
       "      <td>CA</td>\n",
       "      <td>2010</td>\n",
       "      <td>2.0</td>\n",
       "      <td>0</td>\n",
       "      <td>2010</td>\n",
       "      <td>0.0000</td>\n",
       "      <td>1.6685</td>\n",
       "      <td>0.0384</td>\n",
       "      <td>0.0384</td>\n",
       "      <td>2</td>\n",
       "      <td>...</td>\n",
       "      <td>1</td>\n",
       "      <td>0</td>\n",
       "      <td>0</td>\n",
       "      <td>0</td>\n",
       "      <td>0</td>\n",
       "      <td>1.0000</td>\n",
       "      <td>1</td>\n",
       "      <td>1</td>\n",
       "      <td>0</td>\n",
       "      <td>609</td>\n",
       "    </tr>\n",
       "  </tbody>\n",
       "</table>\n",
       "<p>5 rows × 39 columns</p>\n",
       "</div>"
      ],
      "text/plain": [
       "  state_code  year_  vp_gdp  labels  founded_at  age_first_funding_year  \\\n",
       "0         CA   2007     1.9       1        2007                  2.2493   \n",
       "1         CA   2000     7.7       1        2000                  5.1260   \n",
       "2         CA   2009     3.2       1        2009                  1.0329   \n",
       "3         CA   2002     1.8       1        2002                  3.1315   \n",
       "4         CA   2010     2.0       0        2010                  0.0000   \n",
       "\n",
       "   age_last_funding_year  age_first_milestone_year  age_last_milestone_year  \\\n",
       "0                 3.0027                    4.6685                   6.7041   \n",
       "1                 9.9973                    7.0055                   7.0055   \n",
       "2                 1.0329                    1.4575                   2.2055   \n",
       "3                 5.3151                    6.0027                   6.0027   \n",
       "4                 1.6685                    0.0384                   0.0384   \n",
       "\n",
       "   relationships  ...  has_angel  has_rounda  has_roundb  has_roundc  \\\n",
       "0              3  ...          1           0           0           0   \n",
       "1              9  ...          0           0           1           1   \n",
       "2              5  ...          0           1           0           0   \n",
       "3              5  ...          0           0           1           1   \n",
       "4              2  ...          1           0           0           0   \n",
       "\n",
       "   has_roundd  avg_participants  is_top500  reached_milestone  \\\n",
       "0           0            1.0000          0                  1   \n",
       "1           1            4.7500          1                  1   \n",
       "2           0            4.0000          1                  1   \n",
       "3           1            3.3333          1                  1   \n",
       "4           0            1.0000          1                  1   \n",
       "\n",
       "   founded_first_funding_days_difference  first_last_funding_days_difference  \n",
       "0                                    821                                 275  \n",
       "1                                   1871                                1778  \n",
       "2                                    377                                   0  \n",
       "3                                   1143                                 797  \n",
       "4                                      0                                 609  \n",
       "\n",
       "[5 rows x 39 columns]"
      ]
     },
     "execution_count": 6,
     "metadata": {},
     "output_type": "execute_result"
    }
   ],
   "source": [
    "### Check database head to see if the upload was done correct\n",
    "data.head()"
   ]
  },
  {
   "cell_type": "code",
   "execution_count": 7,
   "metadata": {},
   "outputs": [],
   "source": [
    "### 2 columns contain NA, this data is valuable so changing NA to value 999, the reason is the columns have values 0 by default, taking down the\n",
    "## the columns we miss almost all 0 labels and the model wouldn´t couldn´t be trained\n",
    "data[\"age_first_milestone_year\"] = data[\"age_first_milestone_year\"].fillna(value=999)\n",
    "data[\"age_last_milestone_year\"] = data[\"age_last_milestone_year\"].fillna(value=999)"
   ]
  },
  {
   "cell_type": "code",
   "execution_count": 8,
   "metadata": {},
   "outputs": [],
   "source": [
    "X = data.drop([\"labels\", \"state_code\", \"founded_at\", \"year_\"], axis= 1)\n",
    "y = data[\"labels\"]"
   ]
  },
  {
   "cell_type": "markdown",
   "metadata": {},
   "source": [
    "For our X we have 35 columns:                  type: \n",
    "\n",
    "\n",
    "\n",
    "\n",
    "\n",
    "\n",
    "\n",
    "0   vp_gdp                                     float64\n",
    "\n",
    "1   age_first_funding_year                     float64\n",
    "\n",
    "\n",
    "2   age_last_funding_year                      float64 \n",
    "\n",
    "\n",
    "3   age_first_milestone_year                   float64\n",
    "\n",
    "\n",
    "4   age_last_milestone_year                    float64\n",
    "\n",
    "\n",
    "5   relationships                              int64  \n",
    "6   funding_rounds                             int64   \n",
    "7   funding_total_usd                          int64  \n",
    "8   milestones                                 int64  \n",
    "9   is_ca                                      int64  \n",
    "10  is_ny                                      int64  \n",
    "11  is_ma                                      int64  \n",
    "12  is_tx                                      int64  \n",
    "13  is_otherstate                              int64  \n",
    "14  is_software                                int64  \n",
    "15  is_web                                     int64  \n",
    "16  is_mobile                                  int64  \n",
    "17  is_enterprise                              int64  \n",
    "18  is_advertising                             int64  \n",
    "19  is_gamesvideo                              int64  \n",
    "20  is_ecommerce                               int64  \n",
    "21  is_biotech                                 int64  \n",
    "22  is_consulting                              int64  \n",
    "23  is_othercategory                           int64  \n",
    "24  has_vc                                     int64  \n",
    "25  has_angel                                  int64  \n",
    "26  has_rounda                                 int64   \n",
    "27  has_roundb                                 int64  \n",
    "28  has_roundc                                 int64  \n",
    "29  has_roundd                                 int64  \n",
    "30  avg_participants                           float64\n",
    "\n",
    "\n",
    "31  is_top500                                  int64  \n",
    "32  reached_milestone                          int64  \n",
    "33  founded_first_funding_days_difference      int64  \n",
    "34  first_last_funding_days_difference         int64 "
   ]
  },
  {
   "cell_type": "markdown",
   "metadata": {},
   "source": [
    "For our prediction we have \"labels\", they go from 0 to 1, 0 being startups that failed and 1 succesfull, there are a total of 809 rows from 1985 to 2013, this dataset it´s from the US only trough out different states but with a concentration in California "
   ]
  },
  {
   "cell_type": "markdown",
   "metadata": {},
   "source": [
    "Using standard methodology to separate train and test data, after that we are going to scale with StandardScaler from sklearn.preprocessing so we don´t have outliers"
   ]
  },
  {
   "cell_type": "code",
   "execution_count": 9,
   "metadata": {},
   "outputs": [
    {
     "data": {
      "text/plain": [
       "(908, 39)"
      ]
     },
     "execution_count": 9,
     "metadata": {},
     "output_type": "execute_result"
    }
   ],
   "source": [
    "data.shape"
   ]
  },
  {
   "cell_type": "markdown",
   "metadata": {},
   "source": [
    "In here we are creating a function for the model to be automatic and a model to show the scores and why we choose it "
   ]
  },
  {
   "cell_type": "code",
   "execution_count": 25,
   "metadata": {},
   "outputs": [],
   "source": [
    "### Create function for the model\n",
    "def model_function(data):\n",
    "    ### Selecting X and y\n",
    "    X = data.drop([\"labels\", \"state_code\", \"founded_at\", \"year_\"], axis= 1)\n",
    "    y = data[\"labels\"]\n",
    "    ### split the data into test and training\n",
    "    X_train, X_test, y_train, y_test = train_test_split(X, y, random_state=42)\n",
    "    ### Scaling the sdata to avoid noise from outliers \n",
    "    ## Creating Scaler instance\n",
    "    scaler = StandardScaler()\n",
    "    ### fitting the data to the scaler\n",
    "    X_scaler = scaler.fit(X_train)\n",
    "    ## Transforming data\n",
    "    X_train_scaled = X_scaler.transform(X_train)\n",
    "    X_test_scaled = X_scaler.transform(X_test)\n",
    "    ### Creating Classifier instance\n",
    "    classifier = GradientBoostingClassifier(n_estimators=100,\n",
    "   learning_rate=0.05,\n",
    "   max_features=8,\n",
    "   min_samples_leaf= 0.1,\n",
    "   loss= 'deviance',\n",
    "   max_depth=2,\n",
    "   subsample = 0.95,\n",
    "   random_state=0)\n",
    "   ## Training the model\n",
    "    classifier.fit(X_train_scaled, y_train)\n",
    "    ###Predicting data\n",
    "    y_pred = classifier.predict(X_test_scaled)\n",
    "    y_proba = classifier.predict_proba(X_test_scaled)\n",
    "    fpr, tpr, _ = roc_curve(y_test, y_proba[:,1])\n",
    "    roc_display = RocCurveDisplay(fpr=fpr, tpr=tpr).plot()\n",
    "    plot = roc_display, plt.plot([0,1], [0,1], c=\"r\")\n",
    "\n",
    "    return classifier.score(X_test_scaled, y_test), plot\n"
   ]
  },
  {
   "cell_type": "code",
   "execution_count": 27,
   "metadata": {},
   "outputs": [
    {
     "data": {
      "text/plain": [
       "(0.8061674008810573,\n",
       " (<sklearn.metrics._plot.roc_curve.RocCurveDisplay at 0x20215649048>,\n",
       "  [<matplotlib.lines.Line2D at 0x20215677948>]),\n",
       " array([0.8379339 , 0.90014076, 0.9110687 , 0.8758971 , 0.88378429,\n",
       "        0.89517077, 0.0998962 , 0.33042499, 0.88457888, 0.91246738,\n",
       "        0.83446582, 0.83693538, 0.75749457, 0.76592077, 0.88669597,\n",
       "        0.85361309, 0.77603135, 0.63173809, 0.45977369, 0.86468975,\n",
       "        0.3720076 , 0.91102084, 0.60464587, 0.90186086, 0.12460296,\n",
       "        0.65790272, 0.74141288, 0.25603697, 0.59534184, 0.80854827,\n",
       "        0.89197758, 0.91330724, 0.60239434, 0.84663295, 0.26607422,\n",
       "        0.40686686, 0.62471231, 0.74147977, 0.49180662, 0.34287094,\n",
       "        0.779504  , 0.85303663, 0.13177718, 0.36550874, 0.8945859 ,\n",
       "        0.86388896, 0.90044213, 0.80767901, 0.74049057, 0.30891752,\n",
       "        0.8558076 , 0.77325162, 0.85172834, 0.50586619, 0.83482606,\n",
       "        0.68791659, 0.74173843, 0.80530594, 0.90075829, 0.72792545,\n",
       "        0.54897793, 0.89783178, 0.89076543, 0.20802246, 0.88688575,\n",
       "        0.81520268, 0.36595154, 0.22969927, 0.89068555, 0.90450453,\n",
       "        0.87386686, 0.80098471, 0.90664627, 0.12484259, 0.67029619,\n",
       "        0.80833215, 0.83553883, 0.3380208 , 0.61725238, 0.71356116,\n",
       "        0.54929199, 0.19852456, 0.38731582, 0.76134814, 0.49716998,\n",
       "        0.8614123 , 0.26257605, 0.88749377, 0.23619787, 0.76638367,\n",
       "        0.26513311, 0.09073944, 0.41622853, 0.42222861, 0.23493849,\n",
       "        0.66057813, 0.49682193, 0.91157205, 0.24523931, 0.86087769,\n",
       "        0.78339706, 0.89038422, 0.81842434, 0.84220906, 0.13690285,\n",
       "        0.81690962, 0.71468124, 0.30752784, 0.74739896, 0.356218  ,\n",
       "        0.59857355, 0.37252311, 0.12250107, 0.80946417, 0.73877189,\n",
       "        0.75608068, 0.31041982, 0.89543666, 0.90115705, 0.19102582,\n",
       "        0.8838223 , 0.8789344 , 0.9185482 , 0.17902223, 0.58054412,\n",
       "        0.84847746, 0.80152293, 0.64208672, 0.90870548, 0.78821809,\n",
       "        0.72994963, 0.86433876, 0.84041299, 0.85755442, 0.33576561,\n",
       "        0.69082487, 0.53114849, 0.12184068, 0.17227188, 0.89315354,\n",
       "        0.81333188, 0.86872707, 0.10889535, 0.8872157 , 0.86893712,\n",
       "        0.85540104, 0.84410135, 0.86700745, 0.904195  , 0.61280969,\n",
       "        0.35537866, 0.59874645, 0.7953355 , 0.82406397, 0.86234166,\n",
       "        0.68618692, 0.86583572, 0.30370632, 0.91442278, 0.7321316 ,\n",
       "        0.6945866 , 0.79137388, 0.78159679, 0.21857108, 0.8176143 ,\n",
       "        0.2341268 , 0.85444301, 0.62052867, 0.76045154, 0.9102221 ,\n",
       "        0.88244973, 0.70979611, 0.80973681, 0.1265478 , 0.71976075,\n",
       "        0.51397179, 0.52542706, 0.72343673, 0.51834305, 0.63922667,\n",
       "        0.87377883, 0.54452536, 0.12507717, 0.88060773, 0.65446672,\n",
       "        0.61665011, 0.28556455, 0.85748155, 0.85254261, 0.8392092 ,\n",
       "        0.77435974, 0.38256309, 0.69141471, 0.28326894, 0.18670894,\n",
       "        0.70687817, 0.130052  , 0.28575797, 0.91343729, 0.59449513,\n",
       "        0.79956424, 0.91107636, 0.63478153, 0.64907268, 0.19318749,\n",
       "        0.2440972 , 0.21978003, 0.66840652, 0.82110384, 0.89879968,\n",
       "        0.31896271, 0.81986694, 0.59202089, 0.09439034, 0.84990412,\n",
       "        0.75426997, 0.91749907, 0.311329  , 0.72807129, 0.67401389,\n",
       "        0.89306215, 0.85710384, 0.78448885, 0.84631612, 0.91109806,\n",
       "        0.81822241, 0.39415941]))"
      ]
     },
     "execution_count": 27,
     "metadata": {},
     "output_type": "execute_result"
    },
    {
     "data": {
      "image/png": "[encoded data removed]",
      "text/plain": [
       "<Figure size 432x288 with 1 Axes>"
      ]
     },
     "metadata": {
      "needs_background": "light"
     },
     "output_type": "display_data"
    }
   ],
   "source": [
    "model_function(data)"
   ]
  },
  {
   "cell_type": "code",
   "execution_count": 33,
   "metadata": {},
   "outputs": [],
   "source": [
    "### Split the data into test and train \n",
    "X_train, X_test, y_train, y_test = train_test_split(X, y, random_state=42)"
   ]
  },
  {
   "cell_type": "code",
   "execution_count": 34,
   "metadata": {},
   "outputs": [],
   "source": [
    "### Going to scale the data to avoid outliers \n",
    "scaler = StandardScaler()\n",
    "X_scaler = scaler.fit(X_train)\n",
    "X_train_scaled = X_scaler.transform(X_train)\n",
    "X_test_scaled = X_scaler.transform(X_test)"
   ]
  },
  {
   "cell_type": "markdown",
   "metadata": {},
   "source": [
    "Applying Gradient Boosting Classifier, Boosting has the idea of learning from each successful model ran and minimize the error. In a summarized way to see it the Gradient Boosting Classifier incorporates a minimize cost function to cast the next model"
   ]
  },
  {
   "cell_type": "code",
   "execution_count": 35,
   "metadata": {},
   "outputs": [
    {
     "name": "stdout",
     "output_type": "stream",
     "text": [
      "Accuracy score (training): 0.82\n",
      "Accuracy score (validation): 0.81\n"
     ]
    }
   ],
   "source": [
    "classifier = GradientBoostingClassifier(n_estimators=100,\n",
    "   learning_rate=0.05,\n",
    "   max_features=8,\n",
    "   min_samples_leaf= 0.1,\n",
    "   loss= 'deviance',\n",
    "   max_depth=2,\n",
    "   subsample = 0.95,\n",
    "   random_state=0)\n",
    "\n",
    "\n",
    "classifier.fit(X_train_scaled, y_train)\n",
    "print(\"Accuracy score (training): {0:.2f}\".format(\n",
    "classifier.score(X_train_scaled, y_train)))\n",
    "print(\"Accuracy score (validation): {0:.2f}\".format(\n",
    "classifier.score(X_test_scaled, y_test)))\n",
    "y_pred = classifier.predict(X_test_scaled)\n",
    "\n",
    "\n",
    "\n"
   ]
  },
  {
   "cell_type": "code",
   "execution_count": 37,
   "metadata": {},
   "outputs": [],
   "source": [
    "pickle_out = open(\"model.pkl\", \"wb\")\n",
    "pickle.dump(classifier, pickle_out)\n",
    "pickle_out.close()"
   ]
  },
  {
   "cell_type": "code",
   "execution_count": 36,
   "metadata": {},
   "outputs": [
    {
     "name": "stdout",
     "output_type": "stream",
     "text": [
      "0.4872857595157492\n"
     ]
    }
   ],
   "source": [
    "print(log_loss(y_test, classifier.predict_proba(X_test_scaled)))"
   ]
  },
  {
   "cell_type": "code",
   "execution_count": 16,
   "metadata": {},
   "outputs": [
    {
     "name": "stdout",
     "output_type": "stream",
     "text": [
      "AUC del set de prueba 0.7613732453915103\n"
     ]
    },
    {
     "data": {
      "image/png": "[encoded data removed]",
      "text/plain": [
       "<Figure size 432x288 with 1 Axes>"
      ]
     },
     "metadata": {
      "needs_background": "light"
     },
     "output_type": "display_data"
    }
   ],
   "source": [
    "y_proba = classifier.predict_proba(X_test_scaled)\n",
    "fpr, tpr, _ = roc_curve(y_test, y_proba[:,1])\n",
    "roc_display = RocCurveDisplay(fpr=fpr, tpr=tpr).plot()\n",
    "plt.plot([0,1],[0,1], c='g')\n",
    "\n",
    "fpr, tpr, thresholds = roc_curve(y_test,y_pred, pos_label=1)\n",
    "print(\"AUC del set de prueba\",  auc(fpr, tpr))"
   ]
  },
  {
   "cell_type": "code",
   "execution_count": 17,
   "metadata": {},
   "outputs": [
    {
     "name": "stdout",
     "output_type": "stream",
     "text": [
      "              precision    recall  f1-score   support\n",
      "\n",
      "           0       0.80      0.60      0.69        81\n",
      "           1       0.81      0.92      0.86       146\n",
      "\n",
      "    accuracy                           0.81       227\n",
      "   macro avg       0.81      0.76      0.77       227\n",
      "weighted avg       0.81      0.81      0.80       227\n",
      "\n",
      "0.8061674008810573\n",
      "[[ 49  32]\n",
      " [ 12 134]]\n"
     ]
    }
   ],
   "source": [
    "print(classification_report(y_test, y_pred))\n",
    "print(accuracy_score(y_test, y_pred))\n",
    "print(confusion_matrix(y_test, y_pred))"
   ]
  },
  {
   "cell_type": "markdown",
   "metadata": {},
   "source": [
    "Creating this model we had a 80% acurracy, the model does what we need, with a 79% recall for 57% and 81% we have an almost certainty that we can detect the true successful or failed startups and with this we can forecast for new business"
   ]
  }
 ],
 "metadata": {
  "kernelspec": {
   "display_name": "Python 3.7.13 ('mlenv')",
   "language": "python",
   "name": "python3"
  },
  "language_info": {
   "codemirror_mode": {
    "name": "ipython",
    "version": 3
   },
   "file_extension": ".py",
   "mimetype": "text/x-python",
   "name": "python",
   "nbconvert_exporter": "python",
   "pygments_lexer": "ipython3",
   "version": "3.7.13"
  },
  "orig_nbformat": 4,
  "vscode": {
   "interpreter": {
    "hash": "dad9669986d2e53d258b14239b0338930eb2b69d3d5c20882941b4054d76ef36"
   }
  }
 },
 "nbformat": 4,
 "nbformat_minor": 2
}
